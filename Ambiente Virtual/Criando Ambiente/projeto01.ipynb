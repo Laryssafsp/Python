#%%
2+2

#%%
pip install pandas

#%%
import pandas as pd

#%%
pip freeze > requirements.txt
